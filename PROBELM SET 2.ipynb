{
 "cells": [
  {
   "cell_type": "markdown",
   "id": "7a7f9fe6",
   "metadata": {},
   "source": [
    "QUESTION 1 ANSWER\n"
   ]
  },
  {
   "cell_type": "code",
   "execution_count": 4,
   "id": "33aaed7f",
   "metadata": {},
   "outputs": [
    {
     "name": "stdout",
     "output_type": "stream",
     "text": [
      "2\n",
      "4\n",
      "6\n",
      "6\n"
     ]
    }
   ],
   "source": [
    "a=0\n",
    "\n",
    "def b():\n",
    "    global a\n",
    "    a = c(a)\n",
    "    return a\n",
    "\n",
    "def c(a):\n",
    "    return a + 2\n",
    "\n",
    "print(b())\n",
    "print(b())\n",
    "print(b())\n",
    "print(a)\n"
   ]
  },
  {
   "cell_type": "markdown",
   "id": "611e1eee",
   "metadata": {},
   "source": [
    "In the first b() call the global a is used i.e 0 which is passed to c() from which the value of a becomes 2 and hence b() returns 2.\n",
    "In the second b() call the same process is followed and the a value becomes 4\n",
    "In the third b()call the same process is followed and the value is 6.\n",
    "In the fourth case, b() was declared global .Hence the value change of a is made to the global a.So the final value is 6.\n",
    "\n",
    "\n",
    "\n"
   ]
  },
  {
   "cell_type": "markdown",
   "id": "b87e4c18",
   "metadata": {},
   "source": [
    "QUESTION 2 ANSWER\n"
   ]
  },
  {
   "cell_type": "code",
   "execution_count": 6,
   "id": "9aa9c6d7",
   "metadata": {},
   "outputs": [
    {
     "data": {
      "text/plain": [
       "'file  idterm.py  not   found'"
      ]
     },
     "execution_count": 6,
     "metadata": {},
     "output_type": "execute_result"
    }
   ],
   "source": [
    "def fileLength(filename):\n",
    "    try:\n",
    "        open_file = open(filename,'r')\n",
    "        file_data = open_file.read()\n",
    "        length_of_file = len(file_data)\n",
    "        open_file.close()\n",
    "        return length_of_file\n",
    "    except:\n",
    "        return \"file  \"+ filename + \"  not   found\"\n",
    "\n",
    "\n",
    "fileLength(\"idterm.py\")\n",
    "    "
   ]
  },
  {
   "cell_type": "markdown",
   "id": "b9c048a7",
   "metadata": {},
   "source": [
    "QUESTION NO 4 ANSWER"
   ]
  },
  {
   "cell_type": "code",
   "execution_count": 22,
   "id": "87466090",
   "metadata": {},
   "outputs": [
    {
     "name": "stdout",
     "output_type": "stream",
     "text": [
      "1\n"
     ]
    }
   ],
   "source": [
    "def collatz(input):\n",
    "    \n",
    "    new_list = [input]\n",
    "    if input < 1:\n",
    "        return (\"Enter a positive integer\")\n",
    "    \n",
    "    if input == 1:\n",
    "        return [1]\n",
    "    \n",
    "    elif input % 2 == 0:\n",
    "        new_list.extend(collatz(int(input/2)))\n",
    "    else:\n",
    "        new_list.extend(collatz((input*3)+1))\n",
    "    return new_list\n",
    "\n",
    "values = collatz(1)\n",
    "for i in values :\n",
    "    print(i)"
   ]
  },
  {
   "cell_type": "code",
   "execution_count": 23,
   "id": "ad93a1bb",
   "metadata": {},
   "outputs": [
    {
     "name": "stdout",
     "output_type": "stream",
     "text": [
      "10\n",
      "5\n",
      "16\n",
      "8\n",
      "4\n",
      "2\n",
      "1\n"
     ]
    }
   ],
   "source": [
    "values = collatz(10)\n",
    "for i in values:\n",
    "    print(i)"
   ]
  },
  {
   "cell_type": "markdown",
   "id": "2a61716f",
   "metadata": {},
   "source": [
    "QUESTION NO 5 ANSWER"
   ]
  },
  {
   "cell_type": "code",
   "execution_count": 29,
   "id": "16bedcf1",
   "metadata": {},
   "outputs": [],
   "source": [
    "def binary(input):\n",
    "    \n",
    "    if input<0:\n",
    "        return (\"Enter positive integer\")\n",
    "    \n",
    "    elif input >= 1:\n",
    "        return((10*binary(int(input/2))) + (input%2))\n",
    "    else:\n",
    "        return 0\n",
    "\n",
    "    \n",
    "    "
   ]
  },
  {
   "cell_type": "code",
   "execution_count": 30,
   "id": "62fa2d05",
   "metadata": {},
   "outputs": [
    {
     "data": {
      "text/plain": [
       "0"
      ]
     },
     "execution_count": 30,
     "metadata": {},
     "output_type": "execute_result"
    }
   ],
   "source": [
    "binary(0)"
   ]
  },
  {
   "cell_type": "code",
   "execution_count": 31,
   "id": "8091d06f",
   "metadata": {},
   "outputs": [
    {
     "data": {
      "text/plain": [
       "1"
      ]
     },
     "execution_count": 31,
     "metadata": {},
     "output_type": "execute_result"
    }
   ],
   "source": [
    "binary(1)\n"
   ]
  },
  {
   "cell_type": "code",
   "execution_count": 32,
   "id": "61bcee21",
   "metadata": {},
   "outputs": [
    {
     "data": {
      "text/plain": [
       "11"
      ]
     },
     "execution_count": 32,
     "metadata": {},
     "output_type": "execute_result"
    }
   ],
   "source": [
    "binary(3)"
   ]
  },
  {
   "cell_type": "code",
   "execution_count": 33,
   "id": "8c22b16c",
   "metadata": {},
   "outputs": [
    {
     "data": {
      "text/plain": [
       "1001"
      ]
     },
     "execution_count": 33,
     "metadata": {},
     "output_type": "execute_result"
    }
   ],
   "source": [
    "binary(9)"
   ]
  },
  {
   "cell_type": "markdown",
   "id": "8c473f36",
   "metadata": {},
   "source": [
    "QUESTION 9 ANSWER"
   ]
  },
  {
   "cell_type": "code",
   "execution_count": 34,
   "id": "b451577b",
   "metadata": {},
   "outputs": [
    {
     "name": "stdout",
     "output_type": "stream",
     "text": [
      "['THE', 'QUICK', 'BROWN', 'FOX', 'JUMPS', 'OVER', 'THE', 'LAZY', 'DOG']\n",
      "['the', 'quick', 'brown', 'fox', 'jumps', 'over', 'the', 'lazy', 'dog']\n",
      "[3, 5, 5, 3, 5, 4, 3, 4, 3]\n",
      "[['THE', 'the', 3], ['QUICK', 'quick', 5], ['BROWN', 'brown', 5], ['FOX', 'fox', 3], ['JUMPS', 'jumps', 5], ['OVER', 'over', 4], ['THE', 'the', 3], ['LAZY', 'lazy', 4], ['DOG', 'dog', 3]]\n",
      "[]\n"
     ]
    }
   ],
   "source": [
    "words = ['The', 'quick','brown','fox','jumps','over','the','lazy','dog']\n",
    "\n",
    "def upper(words):\n",
    "    upper_case_list = []\n",
    "    for word in words:\n",
    "        upper_case_list.append(word.upper())\n",
    "    return upper_case_list\n",
    "        \n",
    "def lower(words):\n",
    "    lower_case_list = []\n",
    "    for word in words:\n",
    "        lower_case_list.append(word.lower())\n",
    "    return lower_case_list\n",
    "\n",
    "def length_of_words(words):\n",
    "    word_length_list = []\n",
    "    for word in words:\n",
    "        word_length_list.append(len(word))\n",
    "    return word_length_list\n",
    "    \n",
    "\n",
    "def upper_lower_length_of_words(words):\n",
    "    final_list = []\n",
    "    upper_lower_length_of_words_list = []\n",
    "    for word in words:\n",
    "        upper_lower_length_of_words_list.clear()\n",
    "        upper_lower_length_of_words_list.append(word.upper())\n",
    "        upper_lower_length_of_words_list.append(word.lower())\n",
    "        upper_lower_length_of_words_list.append(len(word))\n",
    "        new_list = upper_lower_length_of_words_list.copy()\n",
    "        final_list.append(new_list)\n",
    "    return final_list\n",
    "\n",
    "\n",
    "def check_word_length(words):\n",
    "    word_length = []\n",
    "    for word in words:\n",
    "        if len(word) > 3:\n",
    "            word_length.append(word)\n",
    "        return word_length\n",
    "    \n",
    "print(upper(words))\n",
    "print(lower(words))\n",
    "print(length_of_words(words))\n",
    "print(upper_lower_length_of_words(words))\n",
    "print(check_word_length(words))\n",
    "        \n",
    "    \n",
    "    \n",
    "\n",
    "        "
   ]
  },
  {
   "cell_type": "markdown",
   "id": "262bd82d",
   "metadata": {},
   "source": [
    "QUESTION 3 ANSWER"
   ]
  },
  {
   "cell_type": "code",
   "execution_count": null,
   "id": "c3104dcb",
   "metadata": {},
   "outputs": [],
   "source": [
    "class Marsupial:\n",
    "    \n",
    "    def _init_(self):\n",
    "        self.new_list = []\n",
    "        self.new_list.clear()\n",
    "    def put_in_pouch(self,value):\n",
    "        self.new_list.append(value)\n",
    "    def pouch_contents(self):\n",
    "        return self.new_list\n",
    "m = Marsupial()\n",
    "m.put_in_pouch('doll')\n",
    "m.put_in_pouch('firetruck')\n",
    "m.put_in_pouch('kitten')\n",
    "print(m.pouch_contents())\n",
    "\n",
    "\n",
    "    "
   ]
  },
  {
   "cell_type": "code",
   "execution_count": null,
   "id": "942ec29a",
   "metadata": {},
   "outputs": [],
   "source": [
    "class kangroo(Marsupial):\n",
    "    \n",
    "     def _init_(self,x,y):\n",
    "            self.new_list = []\n",
    "            self.new_list.clear()\n",
    "            self.x = x\n",
    "            self.y = y\n",
    "    def _str_(self):\n",
    "        return (\"I am a kangroo located at coordinates (\"+str(self.x)+\",\"+str(self.y)+\")\")\n",
    "    def jump(self,dx,dy):\n",
    "        self.x = self.x + dx\n",
    "        self.y = self.y + dy\n",
    "        \n",
    "        \n",
    "k= Kangroo(0,0)\n",
    "print(k)\n",
    "k.put_in_pouch('doll')\n",
    "k.put_in_pouch('firetruck')\n",
    "k.put_in_pouch('kitten')\n",
    "print(k.pouch_contents())\n",
    "k.jump(1,0)\n",
    "k.jump(1,0)\n",
    "k.jump(1,0)\n",
    "print(k)\n",
    "    \n",
    "         \n",
    "        "
   ]
  },
  {
   "cell_type": "markdown",
   "id": "8ba5dc67",
   "metadata": {},
   "source": [
    "QUESTION 6 ANSWER"
   ]
  },
  {
   "cell_type": "code",
   "execution_count": 34,
   "id": "4b2ac884",
   "metadata": {},
   "outputs": [
    {
     "name": "stdout",
     "output_type": "stream",
     "text": [
      "W3C Mission\n",
      "\tPrinciples\n"
     ]
    }
   ],
   "source": [
    "from html.parser import HTMLParser\n",
    " \n",
    "class HeadingParser(HTMLParser):\n",
    "    flag = False\n",
    "    indendation_value = 0\n",
    "    \n",
    "    def handle_starttag(self,tag,attrs):\n",
    "        if tag == \"h1\":\n",
    "            self.flag = True\n",
    "            self.indendation_value = 0\n",
    "        elif tag == \"h2\":\n",
    "            self.flag = True\n",
    "            self.indendation_value = 1\n",
    "        elif tag == \"h3\":\n",
    "            self.flag = True\n",
    "            self.indendation_value = 2\n",
    "        elif tag == \"h4\":\n",
    "            self.flag = True\n",
    "            self.indendation_value = 3\n",
    "        elif tag == \"h5\":\n",
    "            self.flag = True\n",
    "            self.indendation_value = 4\n",
    "        elif tag ==\"h6\":\n",
    "            self.flag = True\n",
    "            self.indendation_value = 5\n",
    "        \n",
    "        \n",
    "    def handle_data(self,data):\n",
    "        if self.flag:\n",
    "            print(self.indendation_value*\"\\t\"+data)\n",
    "    def handle_endtag(self,tag):\n",
    "        if tag == \"h1\":\n",
    "            self.flag = False\n",
    "        elif tag == \"h2\":\n",
    "            self.flag = False\n",
    "        elif tag == \"h3\":\n",
    "            self.flag = False\n",
    "        elif tag == \"h4\":\n",
    "            self.flag = False\n",
    "        elif tag == \"h5\":\n",
    "            self.flag = False\n",
    "        elif tag == \"h6\":\n",
    "            self.flag = False\n",
    "\n",
    "\n",
    "infile = open('w3c.html')\n",
    "content = infile.read()\n",
    "infile.close()\n",
    "hp = HeadingParser()\n",
    "hp.feed(content)\n",
    "\n",
    "            "
   ]
  },
  {
   "cell_type": "code",
   "execution_count": null,
   "id": "87934ec3",
   "metadata": {},
   "outputs": [],
   "source": []
  }
 ],
 "metadata": {
  "kernelspec": {
   "display_name": "Python 3 (ipykernel)",
   "language": "python",
   "name": "python3"
  },
  "language_info": {
   "codemirror_mode": {
    "name": "ipython",
    "version": 3
   },
   "file_extension": ".py",
   "mimetype": "text/x-python",
   "name": "python",
   "nbconvert_exporter": "python",
   "pygments_lexer": "ipython3",
   "version": "3.9.12"
  }
 },
 "nbformat": 4,
 "nbformat_minor": 5
}
